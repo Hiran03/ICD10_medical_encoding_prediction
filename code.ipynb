{
 "cells": [
  {
   "cell_type": "markdown",
   "metadata": {},
   "source": [
    "# Data Challenge Report\n",
    " \n",
    "Hiran N MM21B030\n",
    "\n",
    "\n",
    "In order to tackle this multi-label classification problem, two main approaches were explored. Each approach utilized different model types and techniques to optimize performance, with a focus on maximizing the micro F2-score.\n",
    "\n",
    "**Approach 1: Traditional Machine Learning Models**\n",
    "\n",
    "The first approach involved breaking down the multi-label classification task into multiple binary classification problems. By treating each ICD10 code as a separate binary label, the following models were tested:\n",
    "\n",
    "Logistic Regression: A baseline model was built using logistic regression, given its ability to handle binary classification tasks efficiently and its interpretability.\n",
    "\n",
    "Decision Trees: Decision Trees were also considered; however, due to computational constraints and slower training times, this model was later abandoned in favor of faster alternatives like logistic regression.\n",
    "To further improve performance, several data reduction techniques were applied:\n",
    "\n",
    "Principal Component Analysis (PCA): PCA was used to reduce feature dimensionality while retaining 95% of the variance.\n",
    "Low-Frequency Label Pruning: Labels with occurrences below a certain threshold were removed from the dataset, helping to reduce noise and improve focus on labels with sufficient data representation.\n",
    "Despite these optimizations, the micro F2-score on the leaderboard plateaued at 0.3, suggesting the need for a more powerful model.\n",
    "\n",
    "**Approach 2: Deep Learning Models**\n",
    "\n",
    "Given the limited success of traditional models, a second approach using deep learning was employed. This approach included various neural network architectures to handle the complex, multi-label nature of the data:\n",
    "\n",
    "Convolutional Neural Networks (CNNs): While CNNs are typically used for image data, they were tested here to capture potential spatial relationships in the embeddings. However, they did not yield significant improvements for this dataset.\n",
    "Recurrent Neural Networks (RNNs): RNNs were also explored to model sequential dependencies, though they proved ineffective for this static embedding data.\n",
    "Artificial Neural Networks (ANNs): The final and most successful model was an Artificial Neural Network. ANNs naturally suit multi-label classification by allowing each neuron in the output layer to represent the probability of a corresponding label’s presence. The final ANN model achieved a significant improvement, reaching a micro F2-score of 0.461, outperforming all previous models.\n",
    "\n",
    "\n",
    "\n",
    "\n",
    "\n",
    "Installing necessary libraries..."
   ]
  },
  {
   "cell_type": "code",
   "execution_count": 1,
   "metadata": {},
   "outputs": [],
   "source": [
    "import numpy as np\n",
    "import pandas as pd\n",
    "import matplotlib.pyplot as plt\n",
    "\n",
    "from sklearn.decomposition import PCA\n",
    "from sklearn.tree import DecisionTreeClassifier\n",
    "from sklearn.model_selection import cross_val_score, StratifiedKFold\n",
    "from sklearn.metrics import fbeta_score, make_scorer\n",
    "from sklearn.preprocessing import StandardScaler, MultiLabelBinarizer\n",
    "import joblib\n",
    "import random\n",
    "from sklearn.naive_bayes import MultinomialNB\n",
    "from sklearn.multioutput import MultiOutputClassifier\n",
    "from sklearn.linear_model import LogisticRegression\n",
    "from sklearn.model_selection import GridSearchCV\n",
    "from sklearn.model_selection import train_test_split\n",
    "import numpy as np\n",
    "\n"
   ]
  },
  {
   "cell_type": "markdown",
   "metadata": {},
   "source": [
    "# Loading Data"
   ]
  },
  {
   "cell_type": "markdown",
   "metadata": {},
   "source": [
    "Both the dataset were loaded together...total number of datapoints and labels are printed"
   ]
  },
  {
   "cell_type": "code",
   "execution_count": 3,
   "metadata": {},
   "outputs": [
    {
     "name": "stdout",
     "output_type": "stream",
     "text": [
      "(198982, 1024)\n",
      "198982\n"
     ]
    }
   ],
   "source": [
    "X_full = np.load(r\"C:\\Users\\hiran\\Desktop\\SEM7\\DAL\\Final_Challenge\\embeddings_1.npy\")\n",
    "X_full_2 = np.load(r\"C:\\Users\\hiran\\Desktop\\SEM7\\DAL\\Final_Challenge\\embeddings_2.npy\")\n",
    "X_full = np.vstack((X_full, X_full_2))\n",
    "print(X_full.shape)\n",
    "\n",
    "with open(r'C:\\Users\\hiran\\Desktop\\SEM7\\DAL\\Final_Challenge\\icd_codes_1.txt', 'r') as file:\n",
    "    lines = file.readlines()\n",
    "\n",
    "# Convert the list of lines to a NumPy array\n",
    "y_full = np.array([line.strip() for line in lines])\n",
    "y_full_processed = [labels.split(';') for labels in y_full]\n",
    "\n",
    "with open(r'C:\\Users\\hiran\\Desktop\\SEM7\\DAL\\Final_Challenge\\icd_codes_2.txt', 'r') as file:\n",
    "    lines = file.readlines()\n",
    "\n",
    "# Convert the list of lines to a NumPy array\n",
    "y_full_2 = np.array([line.strip() for line in lines])\n",
    "y_full_processed_2 = [labels.split(';') for labels in y_full_2]\n",
    "\n",
    "y_full_processed.extend(y_full_processed_2)\n",
    "\n",
    "# Print the length of the combined list\n",
    "print(len(y_full_processed))"
   ]
  },
  {
   "cell_type": "markdown",
   "metadata": {},
   "source": [
    "# EDA and Data Engineering\n",
    "\n",
    "In this section, you can outline both your y (target) and X (feature) transformations, explaining each step.\n",
    "\n",
    "**Target Transformation (y):**\n",
    "\n",
    "MultiLabelBinarizer for Encoding: The target variable, y, was multi-label encoded using MultiLabelBinarizer(), which enabled the model to handle multiple ICD10 codes per data point.\n",
    "Low-Frequency Pruning: Since our metric of interest is the micro-averaged F2 score, labels with extremely low occurrences (less than 0.1% of the dataset) were removed. This decision helped in reducing noise and focusing on labels with sufficient data representation. Specifically, labels that occurred in less than 1% of the dataset were filtered out. Approximately 1000 labels were removed this way.\n",
    "\n",
    "**Feature Transformation (X):**\n",
    "\n",
    "Variance Check: To reduce dimensionality and noise, we checked for features with low variance. However, no features met the criteria for exclusion.\n",
    "Principal Component Analysis (PCA): Applied PCA with n_components=0.95 to retain 95% of the variance. This transformation also helped reduce memory usage by reducing funmber of features from 1024 to ~460. Also data was converted to np.float32 for further space redn"
   ]
  },
  {
   "cell_type": "code",
   "execution_count": 4,
   "metadata": {},
   "outputs": [
    {
     "name": "stdout",
     "output_type": "stream",
     "text": [
      "Number of data points: 198982\n",
      "Number of unique labels: 1400\n",
      "Number of data points with no labels: 0\n"
     ]
    },
    {
     "data": {
      "image/png": "[encoded data removed]",
      "text/plain": [
       "<Figure size 640x480 with 1 Axes>"
      ]
     },
     "metadata": {},
     "output_type": "display_data"
    },
    {
     "name": "stdout",
     "output_type": "stream",
     "text": [
      "These many codes occur in less than 1 percent of people: 0.7214285714285714\n",
      "New number of labels:\n",
      " 390\n"
     ]
    }
   ],
   "source": [
    "# Transform labels into binary format\n",
    "\n",
    "mlb = MultiLabelBinarizer()\n",
    "mlb.fit(y_full_processed)\n",
    "y_full_binary = mlb.transform(y_full_processed)\n",
    "\n",
    "print(\"Number of data points:\", y_full_binary.shape[0])\n",
    "print(\"Number of unique labels:\", y_full_binary.shape[1])\n",
    "print(\"Number of data points with no labels:\", y_full_binary[y_full_binary.sum(axis=1) == 0].shape[0])\n",
    "\n",
    "# Plotting the histogram of label occurrences\n",
    "labels_count = y_full_binary.sum(axis=0)\n",
    "plt.bar(list(range(y_full_binary.shape[1])), labels_count)\n",
    "plt.xlabel(\"Labels\")\n",
    "plt.ylabel(\"Number of occurrences\")\n",
    "plt.ylim(top=2000)\n",
    "plt.show()\n",
    "\n",
    "# Weakly sampled labels\n",
    "weak_list = [i for i in range(len(labels_count)) if labels_count[i] < 0.001 * y_full_binary.shape[0]]\n",
    "\n",
    "print(\"These many codes occur in less than 1 percent of people:\", len(weak_list)/len(labels_count))\n",
    "\n",
    "\n",
    "# Remove weak labels from y_full_processed\n",
    "y_full_filtered = [[label for label in labels if label not in mlb.classes_[weak_list]] for labels in y_full_processed]\n",
    "\n",
    "# Initialize and fit a new MultiLabelBinarizer on the filtered data\n",
    "mlb_new = MultiLabelBinarizer()\n",
    "mlb_new.fit(y_full_filtered)\n",
    "y = mlb_new.transform(y_full_filtered)\n",
    "\n",
    "# Output the new binary representation and classes\n",
    "print(\"New number of labels:\\n\",  y.shape[1])\n",
    "\n",
    "# Max accuracy that can be reached\n",
    "# print(fbeta_score(y_full_binary, mlb.transform(y_full_filtered), beta=2, average='micro'))"
   ]
  },
  {
   "cell_type": "code",
   "execution_count": 14,
   "metadata": {},
   "outputs": [
    {
     "data": {
      "image/png": "[encoded data removed]",
      "text/plain": [
       "<Figure size 1200x600 with 1 Axes>"
      ]
     },
     "metadata": {},
     "output_type": "display_data"
    },
    {
     "name": "stdout",
     "output_type": "stream",
     "text": [
      "After PCA dimensions (198982, 467)\n"
     ]
    }
   ],
   "source": [
    "# Calculate the variance of each feature\n",
    "feature_variances = X_full.var(axis=0)\n",
    "\n",
    "# Plot the variances\n",
    "plt.figure(figsize=(12, 6))\n",
    "plt.bar(range(feature_variances.shape[0]), feature_variances)\n",
    "plt.xlabel(\"Feature Index\")\n",
    "plt.ylabel(\"Variance\")\n",
    "plt.title(\"Variance of Each Feature\")\n",
    "plt.show()\n",
    "\n",
    "pca = PCA(n_components=.95)\n",
    "\n",
    "# Fit PCA on the dataset (calculates principal components)\n",
    "pca.fit(X_full)\n",
    "X_reduced = np.float32(pca.transform(X_full))\n",
    "print (\"After PCA dimensions\", X_reduced.shape)"
   ]
  },
  {
   "cell_type": "markdown",
   "metadata": {},
   "source": [
    "All the features have a significant variance. We cant filter out any feature with low variance...But PCA is performed to reduce the dimension of the data"
   ]
  },
  {
   "cell_type": "code",
   "execution_count": 15,
   "metadata": {},
   "outputs": [
    {
     "data": {
      "text/plain": [
       "['pca.pkl']"
      ]
     },
     "execution_count": 15,
     "metadata": {},
     "output_type": "execute_result"
    }
   ],
   "source": [
    "\n",
    "joblib.dump(mlb, 'mlb.pkl')  # Save MultiLabelBinarizer\n",
    "joblib.dump(mlb_new, 'mlb_new.pkl')  # Save MultiLabelBinarizer\n",
    "joblib.dump(pca, \"pca.pkl\")"
   ]
  },
  {
   "cell_type": "markdown",
   "metadata": {},
   "source": [
    "# Sampling\n",
    "\n",
    "To manage the large dataset effectively and reduce computational overhead during experimentation, a sampling technique was implemented. A random subset of 10% of the data was selected for training and testing initial model configurations."
   ]
  },
  {
   "cell_type": "code",
   "execution_count": 24,
   "metadata": {},
   "outputs": [
    {
     "name": "stdout",
     "output_type": "stream",
     "text": [
      "Dimensions of X: (198982, 467) Dimensions of y: (198982, 390)\n"
     ]
    }
   ],
   "source": [
    "random_state = 34\n",
    "np.random.seed(random_state)\n",
    "# Choose random indices, selecting 10% of the data without replacement\n",
    "chosen_idx = np.random.choice(X_full.shape[0], replace=False, size=int(X_full.shape[0] ))\n",
    "# Sample the data using the chosen indices\n",
    "X_sampled = X_reduced[chosen_idx]\n",
    "y_sampled = y[chosen_idx]\n",
    "\n",
    "_, X_test, _, y_test = train_test_split(X_full, y, test_size=0.05)\n",
    "\n",
    "print(\"Dimensions of X:\", X_sampled.shape, \"Dimensions of y:\", y_sampled.shape)"
   ]
  },
  {
   "cell_type": "markdown",
   "metadata": {},
   "source": [
    "# Models"
   ]
  },
  {
   "cell_type": "markdown",
   "metadata": {},
   "source": [
    "**Model 1 : Logistic Regression**\n",
    "\n",
    "To predict the ICD10 codes, a Logistic Regression model was implemented as a multi-output classifier due to the multi-label nature of the problem.\n",
    "\n",
    "MultiOutputClassifier with Logistic Regression: Logistic Regression was chosen as a baseline model for its interpretability and efficiency in handling high-dimensional data. The MultiOutputClassifier wrapper allowed the model to predict multiple labels for each data point independently.\n",
    "Hyperparameter Tuning:\n",
    "\n",
    "The regularization parameter, C, was tuned by evaluating various values from [10e-4, 10]. This hyperparameter controls the regularization strength, balancing model complexity and accuracy. Finally, c=10 gave the best results.\n",
    "Each model configuration was trained and evaluated on the sampled dataset (X_sampled, y_sampled) to select the best-performing parameter based on the micro-averaged F-beta (F2) score.\n",
    "\n",
    "\n",
    "Micro F-beta Score: Since micro-averaged F2 is the evaluation metric, the fbeta_score function with beta=2 was used to compute this on the predictions for each C value. The best-performing model was saved for future evaluation.\n",
    "\n",
    "With C=10 yielding the highest F2 score on the sampled dataset, the final model was trained on the entire sample set using this configuration. The model was then saved using joblib.dump for further usage or potential retraining on the full dataset.\n"
   ]
  },
  {
   "cell_type": "code",
   "execution_count": 23,
   "metadata": {},
   "outputs": [
    {
     "name": "stdout",
     "output_type": "stream",
     "text": [
      "F.BETA Score: for c 5 0.9629183388909158\n",
      "F.BETA Score: for c 10 0.9645189039782263\n"
     ]
    }
   ],
   "source": [
    "# Hyperparameter tuning \n",
    "for c in [5,10] :\n",
    "    clf = MultiOutputClassifier(LogisticRegression(C=c))\n",
    "    clf.fit(np.float16(X_sampled), y_sampled)\n",
    "    print (\"F.BETA Score: for c\",c, fbeta_score(clf.predict(X_sampled), y_sampled, beta=2, average='micro'))\n"
   ]
  },
  {
   "cell_type": "code",
   "execution_count": 25,
   "metadata": {},
   "outputs": [
    {
     "name": "stdout",
     "output_type": "stream",
     "text": [
      "F.BETA Score: 0.9012952358073408\n"
     ]
    }
   ],
   "source": [
    "\n",
    "clf = MultiOutputClassifier(LogisticRegression(C=10))\n",
    "clf.fit(np.float16(X_sampled), y_sampled)\n",
    "joblib.dump(clf, 'LR_19.pkl')  # Save model parameters\n",
    "\n",
    "print (\"F.BETA Score:\", fbeta_score(clf.predict(X_sampled), y_sampled, beta=2, average='micro'))\n",
    "\n"
   ]
  },
  {
   "cell_type": "markdown",
   "metadata": {},
   "source": [
    "Training accuracy of 0.90 was achieved.......but leaderboard accuracy never crossed 0.3 :("
   ]
  },
  {
   "cell_type": "markdown",
   "metadata": {},
   "source": [
    "**Model 2: Neural Networks**\n",
    "\n",
    "A neural network was constructed on full dataset without any pca reduction or label filtering.\n",
    "\n",
    "Neural Network Architecture\n",
    "The model architecture was designed to handle high-dimensional embeddings and produce multi-label outputs. Each component of the architecture is detailed below:\n",
    "\n",
    "Input Layer:\n",
    "\n",
    "Dense Layer with 1024 Units: The input layer is a fully connected (Dense) layer with 1024 neurons, each activated by a ReLU function. The high number of neurons enables the model to learn a rich representation of the embedding space, capturing complex patterns across a large number of input features.\n",
    "\n",
    "Hidden Layers:\n",
    "\n",
    "Layer 1: The first hidden layer contains 1200 neurons with ReLU activation. By expanding the layer size, the model is equipped to learn diverse, intermediate representations between the input embeddings and the final output. This layer is followed by Batch Normalization, which normalizes the output to maintain stable gradients and improve convergence speed, and Dropout (0.3), which randomly drops 30% of neurons during each training step to reduce over fitting.\n",
    "\n",
    "Layer 2: The second hidden layer has 1400 neurons and also uses ReLU activation, Batch Normalization, and Dropout (0.3). This layer, with an even larger number of neurons, allows the network to capture subtle non-linear relationships that might be relevant to correctly classifying a broader range of ICD10 codes.\n",
    "\n",
    "Layer 3: A final dense layer (or the last hidden layer) with 1400 neurons serves as a bridge between the deep feature representations from the hidden layers and the output layer. It also includes Batch Normalization and Dropout (0.3) to enhance regularization and prevent overfitting.\n",
    "\n",
    "Output Layer:\n",
    "\n",
    "The output layer has units equal to the number of ICD10 classes, with sigmoid activation. Using a sigmoid activation function for each output unit provides a probability score between 0 and 1, allowing the model to handle multi-label classification by treating each ICD10 code as an independent binary classification problem.\n"
   ]
  },
  {
   "cell_type": "code",
   "execution_count": 6,
   "metadata": {},
   "outputs": [
    {
     "name": "stdout",
     "output_type": "stream",
     "text": [
      "(198982, 1024) (198982, 1400)\n"
     ]
    }
   ],
   "source": [
    "import numpy as np\n",
    "from tensorflow.keras.models import Sequential\n",
    "from tensorflow.keras.layers import Dense, Dropout, BatchNormalization\n",
    "from tensorflow.keras.callbacks import EarlyStopping\n",
    "from sklearn.metrics import fbeta_score\n",
    "import pandas as pd\n",
    "\n",
    "# Set the random state for reproducibility\n",
    "random_state = 34\n",
    "np.random.seed(random_state)\n",
    "\n",
    "# Choose random indices, selecting 10% of the data without replacement\n",
    "chosen_idx = np.random.choice(X_full.shape[0], replace=False, size=int(X_full.shape[0]))\n",
    "X_train = X_full[chosen_idx]\n",
    "y_train = y_full_binary[chosen_idx]\n",
    "\n",
    "print(X_train.shape, y_train.shape)\n",
    "\n",
    "\n"
   ]
  },
  {
   "cell_type": "code",
   "execution_count": 16,
   "metadata": {},
   "outputs": [
    {
     "name": "stderr",
     "output_type": "stream",
     "text": [
      "c:\\Users\\hiran\\Lib\\site-packages\\keras\\src\\layers\\core\\dense.py:86: UserWarning: Do not pass an `input_shape`/`input_dim` argument to a layer. When using Sequential models, prefer using an `Input(shape)` object as the first layer in the model instead.\n",
      "  super().__init__(activity_regularizer=activity_regularizer, **kwargs)\n"
     ]
    },
    {
     "name": "stdout",
     "output_type": "stream",
     "text": [
      "Epoch 1/15\n",
      "\u001b[1m3078/3078\u001b[0m \u001b[32m━━━━━━━━━━━━━━━━━━━━\u001b[0m\u001b[37m\u001b[0m \u001b[1m153s\u001b[0m 49ms/step - loss: 0.0802 - val_loss: 0.0022\n",
      "Epoch 2/15\n",
      "\u001b[1m3078/3078\u001b[0m \u001b[32m━━━━━━━━━━━━━━━━━━━━\u001b[0m\u001b[37m\u001b[0m \u001b[1m214s\u001b[0m 53ms/step - loss: 0.0024 - val_loss: 0.0020\n",
      "Epoch 3/15\n",
      "\u001b[1m3078/3078\u001b[0m \u001b[32m━━━━━━━━━━━━━━━━━━━━\u001b[0m\u001b[37m\u001b[0m \u001b[1m199s\u001b[0m 52ms/step - loss: 0.0021 - val_loss: 0.0018\n",
      "Epoch 4/15\n",
      "\u001b[1m3078/3078\u001b[0m \u001b[32m━━━━━━━━━━━━━━━━━━━━\u001b[0m\u001b[37m\u001b[0m \u001b[1m147s\u001b[0m 48ms/step - loss: 0.0019 - val_loss: 0.0018\n",
      "Epoch 5/15\n",
      "\u001b[1m3078/3078\u001b[0m \u001b[32m━━━━━━━━━━━━━━━━━━━━\u001b[0m\u001b[37m\u001b[0m \u001b[1m98s\u001b[0m 32ms/step - loss: 0.0017 - val_loss: 0.0017\n",
      "Epoch 6/15\n",
      "\u001b[1m3078/3078\u001b[0m \u001b[32m━━━━━━━━━━━━━━━━━━━━\u001b[0m\u001b[37m\u001b[0m \u001b[1m101s\u001b[0m 33ms/step - loss: 0.0016 - val_loss: 0.0016\n",
      "Epoch 7/15\n",
      "\u001b[1m3078/3078\u001b[0m \u001b[32m━━━━━━━━━━━━━━━━━━━━\u001b[0m\u001b[37m\u001b[0m \u001b[1m99s\u001b[0m 32ms/step - loss: 0.0015 - val_loss: 0.0016\n",
      "Epoch 8/15\n",
      "\u001b[1m3078/3078\u001b[0m \u001b[32m━━━━━━━━━━━━━━━━━━━━\u001b[0m\u001b[37m\u001b[0m \u001b[1m99s\u001b[0m 32ms/step - loss: 0.0014 - val_loss: 0.0016\n",
      "Epoch 9/15\n",
      "\u001b[1m3078/3078\u001b[0m \u001b[32m━━━━━━━━━━━━━━━━━━━━\u001b[0m\u001b[37m\u001b[0m \u001b[1m100s\u001b[0m 32ms/step - loss: 0.0014 - val_loss: 0.0016\n",
      "Epoch 10/15\n",
      "\u001b[1m3078/3078\u001b[0m \u001b[32m━━━━━━━━━━━━━━━━━━━━\u001b[0m\u001b[37m\u001b[0m \u001b[1m99s\u001b[0m 32ms/step - loss: 0.0014 - val_loss: 0.0016\n",
      "Epoch 11/15\n",
      "\u001b[1m3078/3078\u001b[0m \u001b[32m━━━━━━━━━━━━━━━━━━━━\u001b[0m\u001b[37m\u001b[0m \u001b[1m99s\u001b[0m 32ms/step - loss: 0.0013 - val_loss: 0.0015\n",
      "Epoch 12/15\n",
      "\u001b[1m3078/3078\u001b[0m \u001b[32m━━━━━━━━━━━━━━━━━━━━\u001b[0m\u001b[37m\u001b[0m \u001b[1m100s\u001b[0m 32ms/step - loss: 0.0013 - val_loss: 0.0016\n",
      "Epoch 13/15\n",
      "\u001b[1m3078/3078\u001b[0m \u001b[32m━━━━━━━━━━━━━━━━━━━━\u001b[0m\u001b[37m\u001b[0m \u001b[1m99s\u001b[0m 32ms/step - loss: 0.0012 - val_loss: 0.0016\n",
      "Epoch 14/15\n",
      "\u001b[1m3078/3078\u001b[0m \u001b[32m━━━━━━━━━━━━━━━━━━━━\u001b[0m\u001b[37m\u001b[0m \u001b[1m100s\u001b[0m 32ms/step - loss: 0.0012 - val_loss: 0.0015\n",
      "Epoch 15/15\n",
      "\u001b[1m3078/3078\u001b[0m \u001b[32m━━━━━━━━━━━━━━━━━━━━\u001b[0m\u001b[37m\u001b[0m \u001b[1m101s\u001b[0m 33ms/step - loss: 0.0012 - val_loss: 0.0016\n",
      "\u001b[1m6219/6219\u001b[0m \u001b[32m━━━━━━━━━━━━━━━━━━━━\u001b[0m\u001b[37m\u001b[0m \u001b[1m16s\u001b[0m 3ms/step\n",
      "F.BETA Score:  0.8631024546891077\n"
     ]
    },
    {
     "data": {
      "image/png": "[encoded data removed]",
      "text/plain": [
       "<Figure size 640x480 with 1 Axes>"
      ]
     },
     "metadata": {},
     "output_type": "display_data"
    }
   ],
   "source": [
    "input_dim = X_train.shape[1]\n",
    "output_dim = y_train.shape[1]\n",
    "\n",
    "from tensorflow.keras.optimizers import Adam\n",
    "\n",
    "# Define the model\n",
    "model = Sequential([\n",
    "    Dense(1024, activation='relu', input_dim=input_dim),\n",
    "    BatchNormalization(),\n",
    "    Dropout(0.3), # Normalize outputs of the first dense layer\n",
    "    \n",
    "    Dense(1200, activation='relu'),\n",
    "    BatchNormalization(), \n",
    "    Dropout(0.3),   \n",
    "    \n",
    "    Dense(1400, activation='relu'),\n",
    "    BatchNormalization(), \n",
    "    Dropout(0.3), \n",
    "\n",
    "    Dense(output_dim, activation='sigmoid')  # Sigmoid for multilabel outputs\n",
    "])\n",
    "\n",
    "# Compile the model\n",
    "model.compile(optimizer='adam', loss='binary_crossentropy')\n",
    "\n",
    "# Add EarlyStopping callback\n",
    "early_stopping = EarlyStopping(\n",
    "    monitor='val_loss',   # Monitor the validation loss\n",
    "    patience=20,           # Stop training if val_loss doesn't improve for 5 epochs\n",
    "    restore_best_weights=True  # Restore model weights from the epoch with the best val_loss\n",
    ")\n",
    "\n",
    "# Train the model with early stopping\n",
    "losses = model.fit(\n",
    "    np.float16(X_train), y_train,validation_split=0.01,\n",
    "    batch_size=int(64),\n",
    "    epochs=15,  # Total epochs (early stopping may stop earlier)\n",
    "    callbacks=[early_stopping]  # Add early stopping callback\n",
    ")\n",
    "\n",
    "model.save(\"NN_25.keras\")\n",
    "# Plot training and validation loss\n",
    "loss_df = pd.DataFrame(losses.history)\n",
    "loss_df[['loss', 'val_loss']].plot()\n",
    "\n",
    "# Predict and evaluate model\n",
    "y_pred_prob = model.predict(X_train)\n",
    "y_pred = (y_pred_prob > 0.5).astype(int)\n",
    "\n",
    "# Calculate F-beta score\n",
    "print(\"F.BETA Score: \", fbeta_score(y_train, y_pred, beta=2, average='micro'))"
   ]
  },
  {
   "cell_type": "markdown",
   "metadata": {},
   "source": [
    "This model had the best leaderboard output with a micro-F2 score of 0.461. The following code is run to output the final submission file\n"
   ]
  },
  {
   "cell_type": "code",
   "execution_count": 17,
   "metadata": {},
   "outputs": [
    {
     "name": "stdout",
     "output_type": "stream",
     "text": [
      "Loaded Data... (99490, 1024)\n",
      "\u001b[1m3110/3110\u001b[0m \u001b[32m━━━━━━━━━━━━━━━━━━━━\u001b[0m\u001b[37m\u001b[0m \u001b[1m7s\u001b[0m 2ms/step\n",
      "Predictions done...Working on final conversion\n",
      "Writing output file 99490\n"
     ]
    }
   ],
   "source": [
    "# prediction\n",
    "\n",
    "# Load the data\n",
    "X_final = np.load(r\"C:\\Users\\hiran\\Desktop\\SEM7\\DAL\\Final_Challenge\\test_data.npy\")\n",
    "print(\"Loaded Data...\", X_final.shape)\n",
    "\n",
    "\n",
    "# Load the trained model and make predictions\n",
    "# model = joblib.load(r\"C:\\Users\\hiran\\Desktop\\SEM7\\DAL\\Final_Challenge\\NN_03.pkl\")\n",
    "y_binary = model.predict(X_final)\n",
    "y_binary = (y_binary > 0.5).astype(int)\n",
    "\n",
    "print(\"Predictions done...Working on final conversion\")\n",
    "\n",
    "# Load the MultiLabelBinarizer and use inverse_transform\n",
    "\n",
    "y_pred = mlb.inverse_transform(y_binary)  # Changed 'inverse' to 'inverse_transform'\n",
    "\n",
    "print(\"Writing output file\", len(y_pred))\n",
    "\n",
    "submission_df = pd.DataFrame({\n",
    "    \"id\": range(1, len(y_pred) + 1),  # Generates an id column starting from 1\n",
    "    \"labels\": [\";\".join(sorted(labels)) if labels else \"\" for labels in y_pred]  # Sort and join labels with ';' separator\n",
    "})\n",
    "\n",
    "# Save the DataFrame to a CSV file\n",
    "submission_df.to_csv(\"submission_NN_25.csv\", index=False)\n",
    "\n"
   ]
  }
 ],
 "metadata": {
  "kernelspec": {
   "display_name": "Python 3",
   "language": "python",
   "name": "python3"
  },
  "language_info": {
   "codemirror_mode": {
    "name": "ipython",
    "version": 3
   },
   "file_extension": ".py",
   "mimetype": "text/x-python",
   "name": "python",
   "nbconvert_exporter": "python",
   "pygments_lexer": "ipython3",
   "version": "3.12.3"
  }
 },
 "nbformat": 4,
 "nbformat_minor": 2
}
